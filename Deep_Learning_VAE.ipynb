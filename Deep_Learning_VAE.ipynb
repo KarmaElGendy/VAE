{
 "cells": [
  {
   "cell_type": "markdown",
   "id": "f716ff97",
   "metadata": {},
   "source": [
    "# Advanced Deep Learning Midterm"
   ]
  },
  {
   "cell_type": "markdown",
   "id": "1cfe3c5e",
   "metadata": {},
   "source": [
    "Karma El Gendy"
   ]
  },
  {
   "cell_type": "markdown",
   "id": "d6d89693",
   "metadata": {},
   "source": [
    "\n",
    "# Lecture Code (Deep Autoencoder)"
   ]
  },
  {
   "cell_type": "markdown",
   "id": "7748c930",
   "metadata": {},
   "source": [
    "### I chose the Deep Autoencoder from the lecture as it gave the best results among the 3 models. "
   ]
  },
  {
   "cell_type": "markdown",
   "id": "a020180a",
   "metadata": {},
   "source": [
    "The original model is a deep autoencoder that consists of an encoder network followed by a decoder network. The encoder network comprises three dense layers with **128, 64, and 32** units respectively, each using the **ReLU activation function**, gradually reducing the dimensionality of the input image. "
   ]
  },
  {
   "cell_type": "markdown",
   "id": "6ff22ddd",
   "metadata": {},
   "source": [
    "An additional **dense layer with 18 units** and **ReLU activation** is inserted between the encoder and decoder, serving as a bottleneck layer to capture essential features."
   ]
  },
  {
   "cell_type": "markdown",
   "id": "7dfcdecb",
   "metadata": {},
   "source": [
    "The decoder network mirrors the encoder architecture, gradually expanding the dimensionality back to the original **image size of 784 units.** "
   ]
  },
  {
   "cell_type": "markdown",
   "id": "5ad28ad5",
   "metadata": {},
   "source": [
    "The model is trained using the **mean squared error loss function** and **Adam optimizer.** "
   ]
  },
  {
   "cell_type": "markdown",
   "id": "e1695091",
   "metadata": {},
   "source": [
    "\n",
    "# Improved Code (Variational Autoencoder)"
   ]
  },
  {
   "cell_type": "markdown",
   "id": "09211963",
   "metadata": {},
   "source": [
    "## Importing Libraries"
   ]
  },
  {
   "cell_type": "code",
   "execution_count": 1,
   "id": "852965ea",
   "metadata": {},
   "outputs": [
    {
     "name": "stdout",
     "output_type": "stream",
     "text": [
      "WARNING:tensorflow:From C:\\Users\\Karma\\anaconda3\\Lib\\site-packages\\keras\\src\\losses.py:2976: The name tf.losses.sparse_softmax_cross_entropy is deprecated. Please use tf.compat.v1.losses.sparse_softmax_cross_entropy instead.\n",
      "\n"
     ]
    }
   ],
   "source": [
    "# Importing necessary libraries\n",
    "import keras\n",
    "from keras import layers\n",
    "from keras.datasets import fashion_mnist\n",
    "import numpy as np\n",
    "import tensorflow as tf\n",
    "import matplotlib.pyplot as plt"
   ]
  },
  {
   "cell_type": "markdown",
   "id": "e279da01",
   "metadata": {},
   "source": [
    "## Sampling Layer"
   ]
  },
  {
   "cell_type": "markdown",
   "id": "3d3f3d8f",
   "metadata": {},
   "source": [
    "**Sampling Layer**:\n",
    "   - This layer samples from the **Gaussian distribution** represented by `mean` and `log_var`.\n",
    "   - It introduces **stochasticity** into the model, allowing for diverse outputs during training and inference.\n"
   ]
  },
  {
   "cell_type": "code",
   "execution_count": 2,
   "id": "5a4eec3e",
   "metadata": {},
   "outputs": [],
   "source": [
    "# Define Sampling Layer\n",
    "class Sampling(layers.Layer):\n",
    "    def call(self, inputs):\n",
    "        mean, log_var = inputs\n",
    "        epsilon = keras.backend.random_normal(shape=keras.backend.shape(mean))\n",
    "        return mean + keras.backend.exp(0.5 * log_var) * epsilon"
   ]
  },
  {
   "cell_type": "markdown",
   "id": "796ccf49",
   "metadata": {},
   "source": [
    "## Define encoder "
   ]
  },
  {
   "cell_type": "markdown",
   "id": "11726217",
   "metadata": {},
   "source": [
    "**Encoder**:\n",
    "   - The encoder network maps input data to a latent space representation.\n",
    "   - It consists of densely connected layers with **ReLU** activation functions.\n",
    "   - The encoder outputs two vectors: `mean` and `log_var`, representing the parameters of a Gaussian distribution.\n"
   ]
  },
  {
   "cell_type": "code",
   "execution_count": 3,
   "id": "2a428375",
   "metadata": {},
   "outputs": [
    {
     "name": "stdout",
     "output_type": "stream",
     "text": [
      "WARNING:tensorflow:From C:\\Users\\Karma\\anaconda3\\Lib\\site-packages\\keras\\src\\backend.py:1398: The name tf.executing_eagerly_outside_functions is deprecated. Please use tf.compat.v1.executing_eagerly_outside_functions instead.\n",
      "\n"
     ]
    }
   ],
   "source": [
    "# Define Encoder\n",
    "latent_dim = 10  # Increase latent dimensionality\n",
    "encoder_inputs = keras.Input(shape=(784,))\n",
    "x = layers.Dense(512, activation='relu')(encoder_inputs)  # Increase capacity\n",
    "x = layers.Dense(256, activation='relu')(x)  # Additional layer with 256 neurons\n",
    "x = layers.Dense(128, activation='relu')(x)\n",
    "mean = layers.Dense(latent_dim)(x)\n",
    "log_var = layers.Dense(latent_dim)(x)\n",
    "encoder_outputs = Sampling()([mean, log_var])\n",
    "encoder = keras.Model(encoder_inputs, encoder_outputs, name=\"encoder\")"
   ]
  },
  {
   "cell_type": "markdown",
   "id": "b09ed3f7",
   "metadata": {},
   "source": [
    "**Introduction of Latent Space Regularization:**\n",
    "\n",
    "In the original deep autoencoder, the encoder produces a deterministic latent representation of the input data. However, in the VAE, the encoder outputs not only the mean but also the log variance of a **Gaussian distribution**, which represents the latent space. This introduces a form of regularization to the latent space, forcing it to follow a specific distribution (Gaussian distribution)."
   ]
  },
  {
   "cell_type": "markdown",
   "id": "f3bfd742",
   "metadata": {},
   "source": [
    "## Define decoder"
   ]
  },
  {
   "cell_type": "markdown",
   "id": "fd3d4e3c",
   "metadata": {},
   "source": [
    "**Decoder**:\n",
    "   - Reconstructs input data from the sampled **latent representation.**\n",
    "   - It also consists of densely connected layers, with **ReLU** activation functions.\n",
    "   - The final layer uses a **sigmoid activation function** to produce pixel values.\n"
   ]
  },
  {
   "cell_type": "code",
   "execution_count": 4,
   "id": "e0a848d3",
   "metadata": {},
   "outputs": [],
   "source": [
    "# Define Decoder\n",
    "decoder_inputs = keras.Input(shape=(latent_dim,))\n",
    "x = layers.Dense(128, activation='relu')(decoder_inputs)\n",
    "x = layers.Dense(256, activation='relu')(x)  # Additional layer with 256 neurons\n",
    "x = layers.Dense(512, activation='relu')(x)  # Increase capacity\n",
    "outputs = layers.Dense(784, activation='sigmoid')(x)\n",
    "decoder = keras.Model(decoder_inputs, outputs, name=\"decoder\")"
   ]
  },
  {
   "cell_type": "markdown",
   "id": "1c832eb6",
   "metadata": {},
   "source": [
    "## Define VAE model"
   ]
  },
  {
   "cell_type": "code",
   "execution_count": 5,
   "id": "2af702bc",
   "metadata": {},
   "outputs": [],
   "source": [
    "# Define VAE model\n",
    "vae_outputs = decoder(encoder(encoder_inputs))\n",
    "vae = keras.Model(encoder_inputs, vae_outputs, name=\"vae\")"
   ]
  },
  {
   "cell_type": "markdown",
   "id": "50c75efc",
   "metadata": {},
   "source": [
    "## Define VAE loss layer"
   ]
  },
  {
   "cell_type": "markdown",
   "id": "3b307312",
   "metadata": {},
   "source": [
    "**Custom Loss Function Layer**:\n",
    "   - Combines reconstruction loss and **KL divergence loss.**\n",
    "   - Reconstruction loss measures the difference between input data and reconstructed data.\n",
    "   - **KL divergence** loss encourages the latent distribution to approximate a **unit Gaussian.**\n",
    "   - The total loss is the sum of these components, scaled by the number of pixels."
   ]
  },
  {
   "cell_type": "code",
   "execution_count": 6,
   "id": "a2e4d8bf",
   "metadata": {},
   "outputs": [],
   "source": [
    "# Define Custom Loss Function Layer\n",
    "class VAELossLayer(layers.Layer):\n",
    "    def __init__(self, **kwargs):\n",
    "        super(VAELossLayer, self).__init__(**kwargs)\n",
    "        \n",
    "    def call(self, inputs):\n",
    "        inputs, mean, log_var, reconstructed = inputs\n",
    "        inputs_flat = tf.reshape(inputs, [-1, 784])\n",
    "        reconstructed_flat = tf.reshape(reconstructed, [-1, 784])\n",
    "        reconstruction_loss = keras.losses.binary_crossentropy(inputs_flat, reconstructed_flat) * 784\n",
    "        kl_loss = -0.5 * tf.reduce_sum(1 + log_var - tf.square(mean) - tf.exp(log_var), axis=-1)\n",
    "        total_loss = tf.reduce_mean(reconstruction_loss + kl_loss)\n",
    "        return total_loss"
   ]
  },
  {
   "cell_type": "markdown",
   "id": "ff653687",
   "metadata": {},
   "source": [
    "While the original deep autoencoder uses **mean squared error (MSE)** as the loss function for reconstruction, the VAE employs a custom loss function that combines **reconstruction loss**  with **KL divergence loss**. The KL divergence loss encourages the learned latent space to approximate a unit Gaussian distribution, thereby regularizing the model and enabling better generalization."
   ]
  },
  {
   "cell_type": "markdown",
   "id": "2d108f02",
   "metadata": {},
   "source": [
    "- The total loss is adjusted by the scaling factor **784** (the number of pixels in the input images)."
   ]
  },
  {
   "cell_type": "code",
   "execution_count": 7,
   "id": "504cba64",
   "metadata": {},
   "outputs": [
    {
     "name": "stdout",
     "output_type": "stream",
     "text": [
      "WARNING:tensorflow:From C:\\Users\\Karma\\anaconda3\\Lib\\site-packages\\keras\\src\\engine\\base_layer_utils.py:384: The name tf.executing_eagerly_outside_functions is deprecated. Please use tf.compat.v1.executing_eagerly_outside_functions instead.\n",
      "\n"
     ]
    }
   ],
   "source": [
    "# Create an instance of the VAE loss layer\n",
    "vae_loss_layer = VAELossLayer()([encoder_inputs, mean, log_var, vae_outputs])\n",
    "\n",
    "# Combine the models and loss\n",
    "vae.add_loss(vae_loss_layer)"
   ]
  },
  {
   "cell_type": "markdown",
   "id": "0c9e9c26",
   "metadata": {},
   "source": [
    "## Compile the VAE model"
   ]
  },
  {
   "cell_type": "markdown",
   "id": "d930fa89",
   "metadata": {},
   "source": [
    "**Model Compilation**:\n",
    "   - The model is compiled using **mean squared error loss function** and **Adam optimizer.** "
   ]
  },
  {
   "cell_type": "code",
   "execution_count": 8,
   "id": "a80abae9",
   "metadata": {},
   "outputs": [
    {
     "name": "stdout",
     "output_type": "stream",
     "text": [
      "WARNING:tensorflow:From C:\\Users\\Karma\\anaconda3\\Lib\\site-packages\\keras\\src\\optimizers\\__init__.py:309: The name tf.train.Optimizer is deprecated. Please use tf.compat.v1.train.Optimizer instead.\n",
      "\n"
     ]
    }
   ],
   "source": [
    "# Compile the VAE model with the VAE loss layer\n",
    "vae.compile(optimizer='adam', loss='mean_squared_error')"
   ]
  },
  {
   "cell_type": "markdown",
   "id": "891e2a6b",
   "metadata": {},
   "source": [
    "## Load and preprocess data"
   ]
  },
  {
   "cell_type": "markdown",
   "id": "b5f13269",
   "metadata": {},
   "source": [
    "- Similar preprocessing steps to the original model\n",
    "\n",
    "- **Normalization** of pixel values to the range **[0, 1]**.\n",
    "\n",
    "- **Reshaping** flat **784-dimensional** vectors to suit the model input requirements.\n"
   ]
  },
  {
   "cell_type": "code",
   "execution_count": 9,
   "id": "7f99bf11",
   "metadata": {},
   "outputs": [],
   "source": [
    "# Load and preprocess data\n",
    "(x_train, _), (x_test, _) = fashion_mnist.load_data()\n",
    "x_train = x_train.astype('float32') / 255.\n",
    "x_test = x_test.astype('float32') / 255.\n",
    "x_train = x_train.reshape((len(x_train), np.prod(x_train.shape[1:])))\n",
    "x_test = x_test.reshape((len(x_test), np.prod(x_test.shape[1:])))"
   ]
  },
  {
   "cell_type": "markdown",
   "id": "be0fc44c",
   "metadata": {},
   "source": [
    "## Train the VAE model"
   ]
  },
  {
   "cell_type": "markdown",
   "id": "c413105b",
   "metadata": {},
   "source": [
    "**Training**:\n",
    "   - Trains the VAE using **Fashion MNIST** dataset.\n",
    "   - Minimizes the combined loss function to optimize **reconstruction** and **regularization.**\n",
    "   - 50 Epochs"
   ]
  },
  {
   "cell_type": "code",
   "execution_count": 10,
   "id": "66a4c4b7",
   "metadata": {
    "scrolled": false
   },
   "outputs": [
    {
     "name": "stdout",
     "output_type": "stream",
     "text": [
      "Epoch 1/50\n",
      "WARNING:tensorflow:From C:\\Users\\Karma\\anaconda3\\Lib\\site-packages\\keras\\src\\utils\\tf_utils.py:492: The name tf.ragged.RaggedTensorValue is deprecated. Please use tf.compat.v1.ragged.RaggedTensorValue instead.\n",
      "\n",
      "469/469 [==============================] - 9s 15ms/step - loss: 284.2989 - val_loss: 259.0744\n",
      "Epoch 2/50\n",
      "469/469 [==============================] - 7s 15ms/step - loss: 253.3788 - val_loss: 252.1393\n",
      "Epoch 3/50\n",
      "469/469 [==============================] - 8s 17ms/step - loss: 248.5324 - val_loss: 248.8288\n",
      "Epoch 4/50\n",
      "469/469 [==============================] - 10s 20ms/step - loss: 246.0056 - val_loss: 247.0623\n",
      "Epoch 5/50\n",
      "469/469 [==============================] - 9s 18ms/step - loss: 244.2777 - val_loss: 245.2198\n",
      "Epoch 6/50\n",
      "469/469 [==============================] - 8s 17ms/step - loss: 242.9804 - val_loss: 244.1832\n",
      "Epoch 7/50\n",
      "469/469 [==============================] - 6s 14ms/step - loss: 242.1516 - val_loss: 244.3087\n",
      "Epoch 8/50\n",
      "469/469 [==============================] - 7s 15ms/step - loss: 241.4865 - val_loss: 243.1557\n",
      "Epoch 9/50\n",
      "469/469 [==============================] - 9s 19ms/step - loss: 240.9222 - val_loss: 242.2854\n",
      "Epoch 10/50\n",
      "469/469 [==============================] - 9s 19ms/step - loss: 240.4590 - val_loss: 242.1493\n",
      "Epoch 11/50\n",
      "469/469 [==============================] - 9s 19ms/step - loss: 240.0069 - val_loss: 241.6126\n",
      "Epoch 12/50\n",
      "469/469 [==============================] - 8s 18ms/step - loss: 239.7075 - val_loss: 242.2501\n",
      "Epoch 13/50\n",
      "469/469 [==============================] - 7s 16ms/step - loss: 239.4384 - val_loss: 241.0679\n",
      "Epoch 14/50\n",
      "469/469 [==============================] - 8s 18ms/step - loss: 239.1742 - val_loss: 240.8056\n",
      "Epoch 15/50\n",
      "469/469 [==============================] - 10s 22ms/step - loss: 238.9461 - val_loss: 240.5863\n",
      "Epoch 16/50\n",
      "469/469 [==============================] - 11s 22ms/step - loss: 238.7397 - val_loss: 240.7265\n",
      "Epoch 17/50\n",
      "469/469 [==============================] - 7s 15ms/step - loss: 238.4180 - val_loss: 240.3152\n",
      "Epoch 18/50\n",
      "469/469 [==============================] - 8s 16ms/step - loss: 238.3595 - val_loss: 240.4328\n",
      "Epoch 19/50\n",
      "469/469 [==============================] - 8s 17ms/step - loss: 238.0772 - val_loss: 240.1772\n",
      "Epoch 20/50\n",
      "469/469 [==============================] - 7s 15ms/step - loss: 238.0162 - val_loss: 240.3383\n",
      "Epoch 21/50\n",
      "469/469 [==============================] - 8s 17ms/step - loss: 237.8793 - val_loss: 240.0220\n",
      "Epoch 22/50\n",
      "469/469 [==============================] - 7s 16ms/step - loss: 237.7197 - val_loss: 239.9148\n",
      "Epoch 23/50\n",
      "469/469 [==============================] - 7s 15ms/step - loss: 237.5602 - val_loss: 239.4041\n",
      "Epoch 24/50\n",
      "469/469 [==============================] - 7s 16ms/step - loss: 237.4255 - val_loss: 239.8347\n",
      "Epoch 25/50\n",
      "469/469 [==============================] - 6s 12ms/step - loss: 237.3601 - val_loss: 239.5202\n",
      "Epoch 26/50\n",
      "469/469 [==============================] - 7s 14ms/step - loss: 237.2301 - val_loss: 239.5145\n",
      "Epoch 27/50\n",
      "469/469 [==============================] - 9s 18ms/step - loss: 237.2018 - val_loss: 239.5206\n",
      "Epoch 28/50\n",
      "469/469 [==============================] - 7s 16ms/step - loss: 236.9713 - val_loss: 239.0556\n",
      "Epoch 29/50\n",
      "469/469 [==============================] - 7s 15ms/step - loss: 236.9336 - val_loss: 239.2363\n",
      "Epoch 30/50\n",
      "469/469 [==============================] - 6s 13ms/step - loss: 236.8410 - val_loss: 239.6472\n",
      "Epoch 31/50\n",
      "469/469 [==============================] - 8s 17ms/step - loss: 236.7244 - val_loss: 239.0216\n",
      "Epoch 32/50\n",
      "469/469 [==============================] - 8s 17ms/step - loss: 236.6848 - val_loss: 238.9120\n",
      "Epoch 33/50\n",
      "469/469 [==============================] - 8s 17ms/step - loss: 236.6441 - val_loss: 238.9127\n",
      "Epoch 34/50\n",
      "469/469 [==============================] - 8s 18ms/step - loss: 236.5590 - val_loss: 238.9746\n",
      "Epoch 35/50\n",
      "469/469 [==============================] - 7s 14ms/step - loss: 236.4478 - val_loss: 238.7274\n",
      "Epoch 36/50\n",
      "469/469 [==============================] - 7s 15ms/step - loss: 236.3899 - val_loss: 238.9880\n",
      "Epoch 37/50\n",
      "469/469 [==============================] - 8s 16ms/step - loss: 236.3328 - val_loss: 238.7850\n",
      "Epoch 38/50\n",
      "469/469 [==============================] - 6s 13ms/step - loss: 236.2887 - val_loss: 238.7229\n",
      "Epoch 39/50\n",
      "469/469 [==============================] - 8s 17ms/step - loss: 236.2657 - val_loss: 238.6238\n",
      "Epoch 40/50\n",
      "469/469 [==============================] - 7s 15ms/step - loss: 236.1078 - val_loss: 238.6290\n",
      "Epoch 41/50\n",
      "469/469 [==============================] - 7s 14ms/step - loss: 236.0921 - val_loss: 238.9379\n",
      "Epoch 42/50\n",
      "469/469 [==============================] - 7s 15ms/step - loss: 236.0927 - val_loss: 238.5408\n",
      "Epoch 43/50\n",
      "469/469 [==============================] - 7s 14ms/step - loss: 235.9578 - val_loss: 238.4431\n",
      "Epoch 44/50\n",
      "469/469 [==============================] - 6s 13ms/step - loss: 235.9283 - val_loss: 238.4586\n",
      "Epoch 45/50\n",
      "469/469 [==============================] - 6s 13ms/step - loss: 235.9162 - val_loss: 238.4136\n",
      "Epoch 46/50\n",
      "469/469 [==============================] - 6s 12ms/step - loss: 235.8059 - val_loss: 238.6857\n",
      "Epoch 47/50\n",
      "469/469 [==============================] - 6s 12ms/step - loss: 235.7671 - val_loss: 238.4075\n",
      "Epoch 48/50\n",
      "469/469 [==============================] - 6s 13ms/step - loss: 235.8074 - val_loss: 238.4991\n",
      "Epoch 49/50\n",
      "469/469 [==============================] - 8s 17ms/step - loss: 235.7022 - val_loss: 238.6383\n",
      "Epoch 50/50\n",
      "469/469 [==============================] - 6s 14ms/step - loss: 235.6606 - val_loss: 238.3571\n"
     ]
    }
   ],
   "source": [
    "# Training\n",
    "history = vae.fit(x_train, x_train, epochs=50, batch_size=128, shuffle=True, validation_data=(x_test, x_test))"
   ]
  },
  {
   "cell_type": "markdown",
   "id": "9ce5cd18",
   "metadata": {},
   "source": [
    "## Encoding for Prediction"
   ]
  },
  {
   "cell_type": "code",
   "execution_count": 11,
   "id": "042e5847",
   "metadata": {
    "scrolled": false
   },
   "outputs": [
    {
     "name": "stdout",
     "output_type": "stream",
     "text": [
      "313/313 [==============================] - 1s 3ms/step\n",
      "313/313 [==============================] - 1s 2ms/step\n"
     ]
    }
   ],
   "source": [
    "# Encode the test images\n",
    "encoded_imgs = encoder.predict(x_test)\n",
    "\n",
    "# Decode the encoded representations\n",
    "decoded_imgs = decoder.predict(encoded_imgs)"
   ]
  },
  {
   "cell_type": "markdown",
   "id": "5c4787c5",
   "metadata": {},
   "source": [
    "## Result"
   ]
  },
  {
   "cell_type": "markdown",
   "id": "22a6968f",
   "metadata": {},
   "source": [
    "**Interpolation and Generation of New Samples:**\n",
    "\n",
    "- The VAE allows for **interpolation** and **generation** of new samples in the latent space. By sampling from the learned **Gaussian distribution** in the **latent space**, new data points can be generated, providing a more versatile and expressive representation compared to the deterministic latent space of the original autoencoder."
   ]
  },
  {
   "cell_type": "code",
   "execution_count": 12,
   "id": "1bca0e61",
   "metadata": {},
   "outputs": [
    {
     "data": {
      "image/png": "[encoded data removed]",
      "text/plain": [
       "<Figure size 2000x600 with 30 Axes>"
      ]
     },
     "metadata": {},
     "output_type": "display_data"
    }
   ],
   "source": [
    "# Plot original, encoded, and decoded images\n",
    "n = 10\n",
    "plt.figure(figsize=(20, 6))\n",
    "for i in range(n):\n",
    "    # Original images\n",
    "    ax = plt.subplot(3, n, i + 1)\n",
    "    plt.imshow(x_test[i].reshape(28, 28))\n",
    "    plt.gray()\n",
    "    ax.get_xaxis().set_visible(False)\n",
    "    ax.get_yaxis().set_visible(False)\n",
    "    if i == 0:\n",
    "        ax.set_title('Original')\n",
    "\n",
    "    # Encoded images\n",
    "    ax = plt.subplot(3, n, i + 1 + n)\n",
    "    plt.imshow(encoded_imgs[i].reshape(-1, 1))  \n",
    "    plt.gray()\n",
    "    ax.get_xaxis().set_visible(False)\n",
    "    ax.get_yaxis().set_visible(False)\n",
    "    if i == 0:\n",
    "        ax.set_title('Encoded')\n",
    "\n",
    "    # Decoded images\n",
    "    ax = plt.subplot(3, n, i + 1 + 2 * n)\n",
    "    plt.imshow(decoded_imgs[i].reshape(28, 28))\n",
    "    plt.gray()\n",
    "    ax.get_xaxis().set_visible(False)\n",
    "    ax.get_yaxis().set_visible(False)\n",
    "    if i == 0:\n",
    "        ax.set_title('Decoded')\n",
    "plt.show()"
   ]
  },
  {
   "cell_type": "markdown",
   "id": "9dd4f925",
   "metadata": {},
   "source": [
    "**Enhanced Handling of Uncertainty:**\n",
    "\n",
    "- The probabilistic nature of the VAE allows it to capture and quantify **uncertainty** in the data. This is particularly beneficial in scenarios where uncertainty estimation is important, such as in generative modeling and representation learning tasks."
   ]
  },
  {
   "cell_type": "markdown",
   "id": "1489b814",
   "metadata": {},
   "source": [
    "# Saving the Model"
   ]
  },
  {
   "cell_type": "markdown",
   "id": "a744cda2",
   "metadata": {},
   "source": [
    "**Model Saving**:\n",
    "   - The trained VAE model is saved for future use."
   ]
  },
  {
   "cell_type": "code",
   "execution_count": 13,
   "id": "061266b5",
   "metadata": {},
   "outputs": [
    {
     "name": "stdout",
     "output_type": "stream",
     "text": [
      "WARNING:tensorflow:Found duplicated `Variable`s in Model's `weights`. This is usually caused by `Variable`s being shared by Layers in the Model. These `Variable`s will be treated as separate `Variable`s when the Model is restored. To avoid this, please save with `save_format=\"tf\"`.\n"
     ]
    },
    {
     "name": "stderr",
     "output_type": "stream",
     "text": [
      "C:\\Users\\Karma\\anaconda3\\Lib\\site-packages\\keras\\src\\engine\\training.py:3103: UserWarning: You are saving your model as an HDF5 file via `model.save()`. This file format is considered legacy. We recommend using instead the native Keras format, e.g. `model.save('my_model.keras')`.\n",
      "  saving_api.save_model(\n"
     ]
    }
   ],
   "source": [
    "# Save the model\n",
    "vae.save(\"improved_vae_model.h5\")"
   ]
  },
  {
   "cell_type": "markdown",
   "id": "661fe30f",
   "metadata": {},
   "source": [
    "## Comparison"
   ]
  },
  {
   "cell_type": "markdown",
   "id": "390cae29",
   "metadata": {},
   "source": [
    "- The shift from a **normal autoencoder** to a **VAE** adds several important features, especially for generative models. \n",
    "\n",
    "- The VAE encodes inputs into **mean-variance distributions**, creating randomness in latent space unlike a normal autoencoder.\n",
    "\n",
    "- A probabilistic interpretation allows sampling for **data production**. The VAE has a **`Sampling` layer** to introduce **variability** during training. \n",
    "\n",
    "- VAE loss functions combine **reconstruction loss and KL divergence** as a **regularization** term to fit the **latent space** to a standard normal distribution.\n",
    "\n",
    "- Architecturally, the VAE encoder outputs probability distribution parameters, requiring the **Sampling layer**. \n",
    "\n",
    "- VAEs can now do **generative** tasks effectively, making them appropriate for **image generation** and areas such as drug discovery. \n",
    "\n",
    "- The VAE's **probabilistic** methodology improves its **resilience, adaptability, and generative powers over a standard autoencoder.**"
   ]
  },
  {
   "cell_type": "code",
   "execution_count": null,
   "id": "a865367e",
   "metadata": {},
   "outputs": [],
   "source": []
  }
 ],
 "metadata": {
  "kernelspec": {
   "display_name": "Python 3 (ipykernel)",
   "language": "python",
   "name": "python3"
  },
  "language_info": {
   "codemirror_mode": {
    "name": "ipython",
    "version": 3
   },
   "file_extension": ".py",
   "mimetype": "text/x-python",
   "name": "python",
   "nbconvert_exporter": "python",
   "pygments_lexer": "ipython3",
   "version": "3.11.5"
  }
 },
 "nbformat": 4,
 "nbformat_minor": 5
}
